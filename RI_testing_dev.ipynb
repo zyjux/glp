{
 "cells": [
  {
   "cell_type": "code",
   "execution_count": null,
   "id": "e8126708-09df-40ce-bc4d-b026a1d13ad4",
   "metadata": {},
   "outputs": [],
   "source": []
  }
 ],
 "metadata": {
  "kernelspec": {
   "display_name": "glp",
   "language": "python",
   "name": "glp"
  },
  "language_info": {
   "codemirror_mode": {
    "name": "ipython",
    "version": 3
   },
   "file_extension": ".py",
   "mimetype": "text/x-python",
   "name": "python",
   "nbconvert_exporter": "python",
   "pygments_lexer": "ipython3",
   "version": "3.11.6"
  }
 },
 "nbformat": 4,
 "nbformat_minor": 5
}
