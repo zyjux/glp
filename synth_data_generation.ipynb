{
 "cells": [
  {
   "cell_type": "code",
   "execution_count": 6,
   "id": "efc192df-9122-4806-b026-877610eb17ce",
   "metadata": {},
   "outputs": [],
   "source": [
    "import numpy as np\n",
    "import xarray as xr\n",
    "from pathlib import Path\n",
    "import scipy.ndimage as nd"
   ]
  },
  {
   "cell_type": "code",
   "execution_count": 7,
   "id": "2a5df40e-bcd8-4bac-a3ae-a66afa8a6bbe",
   "metadata": {},
   "outputs": [],
   "source": [
    "# Set up random number generator and axes\n",
    "rng = np.random.default_rng()\n",
    "x = np.arange(0, 128)\n",
    "y = np.arange(0, 128)[:, None]"
   ]
  },
  {
   "cell_type": "code",
   "execution_count": 8,
   "id": "92d30138-818c-41e7-b11c-9f210344563a",
   "metadata": {},
   "outputs": [],
   "source": [
    "# Generate training data\n",
    "samples = []\n",
    "for i in range(10000):\n",
    "    maj_len = rng.uniform(10.0, 40.0)\n",
    "    min_len = rng.uniform(5.0, maj_len/1.5)\n",
    "    ang = rng.uniform(0, np.pi)\n",
    "    (x0, y0) = rng.uniform(20.0, 108, 2)\n",
    "    ellipse = (\n",
    "        (((x - x0)*np.cos(ang) + (y - y0)*np.sin(ang)) / (maj_len/2))**2\n",
    "        + (((x - x0)*np.sin(ang) - (y - y0)*np.cos(ang)) / (min_len/2))**2\n",
    "        <= 1\n",
    "    )\n",
    "    ellipse = xr.DataArray(\n",
    "        np.exp(-0.1*nd.distance_transform_edt(1 - ellipse)),\n",
    "        dims=(\"x\", \"y\"),\n",
    "        coords={\"x\": x, \"y\": x}\n",
    "    )\n",
    "    sample = xr.Dataset(\n",
    "        {\n",
    "            \"ellipse\": ellipse,\n",
    "            \"maj_len\": maj_len,\n",
    "            \"min_len\": min_len,\n",
    "            \"angle\": ang,\n",
    "            \"center_x\": x0,\n",
    "            \"center_y\": y0,\n",
    "        }\n",
    "    )\n",
    "    samples.append(sample)\n",
    "training_samples = xr.concat(samples, dim='p')\n",
    "training_samples.to_netcdf(Path.home() / \"research_data/GLP/synthetic_data/init_ds.nc\")\n",
    "del training_samples"
   ]
  },
  {
   "cell_type": "code",
   "execution_count": null,
   "id": "d097dd52-69cb-482b-be3f-b5142cce6eaf",
   "metadata": {},
   "outputs": [],
   "source": []
  }
 ],
 "metadata": {
  "kernelspec": {
   "display_name": "glp-wsl",
   "language": "python",
   "name": "glp-wsl"
  },
  "language_info": {
   "codemirror_mode": {
    "name": "ipython",
    "version": 3
   },
   "file_extension": ".py",
   "mimetype": "text/x-python",
   "name": "python",
   "nbconvert_exporter": "python",
   "pygments_lexer": "ipython3",
   "version": "3.11.5"
  }
 },
 "nbformat": 4,
 "nbformat_minor": 5
}
